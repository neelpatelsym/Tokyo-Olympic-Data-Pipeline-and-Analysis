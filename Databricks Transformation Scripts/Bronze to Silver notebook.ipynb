{
 "cells": [
  {
   "cell_type": "code",
   "execution_count": 0,
   "metadata": {
    "application/vnd.databricks.v1+cell": {
     "cellMetadata": {
      "byteLimit": 2048000,
      "rowLimit": 10000
     },
     "inputWidgets": {},
     "nuid": "55e47641-f7d4-4741-a420-3cd99fc776af",
     "showTitle": false,
     "title": ""
    }
   },
   "outputs": [],
   "source": [
    "from pyspark.sql.functions import count,col,when,isnan,row_number,date_format,from_utc_timestamp\n",
    "from pyspark.sql.types import TimestampType\n",
    "from pyspark.sql.window import Window"
   ]
  },
  {
   "cell_type": "code",
   "execution_count": 0,
   "metadata": {
    "application/vnd.databricks.v1+cell": {
     "cellMetadata": {
      "byteLimit": 2048000,
      "rowLimit": 10000
     },
     "inputWidgets": {},
     "nuid": "ecf4c75c-f119-4f60-94a8-dfccc235ad67",
     "showTitle": false,
     "title": ""
    }
   },
   "outputs": [],
   "source": [
    "input_path = '/mnt/tokyo_olympic/Bronze-Layer/'\n",
    "file_names = dbutils.fs.ls(input_path)\n",
    "dfs = {}"
   ]
  },
  {
   "cell_type": "code",
   "execution_count": 0,
   "metadata": {
    "application/vnd.databricks.v1+cell": {
     "cellMetadata": {
      "byteLimit": 2048000,
      "rowLimit": 10000
     },
     "inputWidgets": {},
     "nuid": "a1db8c88-f5c6-433d-853e-1c573fd88ad5",
     "showTitle": false,
     "title": ""
    }
   },
   "outputs": [],
   "source": [
    "\n",
    "for file_name in file_names:\n",
    "    var = file_name.name.split('.')[0]\n",
    "    dfs[var] = spark.read.format('csv').option(\"header\",\"true\").option(\"InferSchema\",\"true\").load(file_name.path)"
   ]
  },
  {
   "cell_type": "markdown",
   "metadata": {
    "application/vnd.databricks.v1+cell": {
     "cellMetadata": {
      "byteLimit": 2048000,
      "rowLimit": 10000
     },
     "inputWidgets": {},
     "nuid": "c3296166-d195-49dd-9d12-eb570e0204e2",
     "showTitle": false,
     "title": ""
    }
   },
   "source": [
    "### Checking Null Values and Removing them"
   ]
  },
  {
   "cell_type": "code",
   "execution_count": 0,
   "metadata": {
    "application/vnd.databricks.v1+cell": {
     "cellMetadata": {
      "byteLimit": 2048000,
      "rowLimit": 10000
     },
     "inputWidgets": {},
     "nuid": "e7c50c7d-d1bb-452f-8a0e-a3c1df4a4c6a",
     "showTitle": false,
     "title": ""
    }
   },
   "outputs": [
    {
     "output_type": "stream",
     "name": "stdout",
     "output_type": "stream",
     "text": [
      "There are no null records in column medal_type of DataFrame Medals_Individual\nThere are no null records in column medal_code of DataFrame Medals_Individual\nThere are no null records in column medal_date of DataFrame Medals_Individual\nThere are no null records in column athlete_short_name of DataFrame Medals_Individual\nThere are no null records in column athlete_name of DataFrame Medals_Individual\nThere are no null records in column athlete_sex of DataFrame Medals_Individual\nThere are no null records in column athlete_link of DataFrame Medals_Individual\nThere are no null records in column country_code of DataFrame Medals_Individual\nThere are no null records in column discipline_code of DataFrame Medals_Individual\nThere are no null records in column event of DataFrame Medals_Individual\nThere are no null records in column country of DataFrame Medals_Individual\nThere are no null records in column discipline of DataFrame Medals_Individual\nThere are no null records in column PersonName of DataFrame athletes\nThere are no null records in column Country of DataFrame athletes\nThere are no null records in column Discipline of DataFrame athletes\nThere are no null records in column Name of DataFrame coaches\nThere are no null records in column Country of DataFrame coaches\nThere are no null records in column Discipline of DataFrame coaches\nDropping column Event from DataFrame coaches\nThere are no null records in column Discipline of DataFrame entriesgender\nThere are no null records in column Female of DataFrame entriesgender\nThere are no null records in column Male of DataFrame entriesgender\nThere are no null records in column Total of DataFrame entriesgender\nThere are no null records in column Rank of DataFrame medals\nThere are no null records in column Team_Country of DataFrame medals\nThere are no null records in column Gold of DataFrame medals\nThere are no null records in column Silver of DataFrame medals\nThere are no null records in column Bronze of DataFrame medals\nThere are no null records in column Total of DataFrame medals\nThere are no null records in column Rank by Total of DataFrame medals\nThere are no null records in column TeamName of DataFrame teams\nThere are no null records in column Discipline of DataFrame teams\nThere are no null records in column Country of DataFrame teams\nThere are no null records in column Event of DataFrame teams\nThere are no null records in column _c0 of DataFrame tokyo_olympic_dataset\nThere are no null records in column Code of DataFrame tokyo_olympic_dataset\nThere are no null records in column Name of DataFrame tokyo_olympic_dataset\nThere are no null records in column Gender of DataFrame tokyo_olympic_dataset\nThere are no null records in column Age of DataFrame tokyo_olympic_dataset\nThere are no null records in column NOC of DataFrame tokyo_olympic_dataset\nThere are no null records in column Country of DataFrame tokyo_olympic_dataset\nThere are no null records in column Discipline of DataFrame tokyo_olympic_dataset\nThere are no null records in column Sport of DataFrame tokyo_olympic_dataset\nThere are no null records in column Event of DataFrame tokyo_olympic_dataset\nThere are no null records in column Rank of DataFrame tokyo_olympic_dataset\nThere are no null records in column Medal of DataFrame tokyo_olympic_dataset\n"
     ]
    }
   ],
   "source": [
    "for df_name,df_value in dfs.items():\n",
    "    Null_Dict = {col:df_value.filter(df_value[col].isNull()).count() for col in df_value.columns}\n",
    "    for key,values in Null_Dict.items():\n",
    "        if values > 0:\n",
    "            if values/df_value.count() > 0.2:\n",
    "                 print(f\"Dropping column {key} from DataFrame {df_name}\")\n",
    "                 dfs[df_name] = df_value.drop(key)\n",
    "            else:\n",
    "                print(f\"Dropping row for null value in column {key} of DataFrame {df_name}\")\n",
    "                dfs[df_name].na.drop(key)\n",
    "        else:\n",
    "            print(f\"There are no null records in column {key} of DataFrame {df_name}\")"
   ]
  },
  {
   "cell_type": "markdown",
   "metadata": {
    "application/vnd.databricks.v1+cell": {
     "cellMetadata": {
      "byteLimit": 2048000,
      "rowLimit": 10000
     },
     "inputWidgets": {},
     "nuid": "5c154380-de6c-4418-8f3f-5501fb379b1e",
     "showTitle": false,
     "title": ""
    }
   },
   "source": [
    "### Checking Duplicates and Removing them"
   ]
  },
  {
   "cell_type": "code",
   "execution_count": 0,
   "metadata": {
    "application/vnd.databricks.v1+cell": {
     "cellMetadata": {
      "byteLimit": 2048000,
      "rowLimit": 10000
     },
     "inputWidgets": {},
     "nuid": "69226ce6-096b-439d-8835-2a5fad1be688",
     "showTitle": false,
     "title": ""
    }
   },
   "outputs": [
    {
     "output_type": "stream",
     "name": "stdout",
     "output_type": "stream",
     "text": [
      "The Dataframe Medals_Individual donot have duplicates\nThe Dataframe athletes do contain duplicate values\nRemoving Duplicates\nThe Row Count of DataFrame athletes before duplicates removal is 11085\nThe Row Count of DataFrame athletes after duplicates removal is 11085\nThe Dataframe coaches do contain duplicate values\nRemoving Duplicates\nThe Row Count of DataFrame coaches before duplicates removal is 394\nThe Row Count of DataFrame coaches after duplicates removal is 394\nThe Dataframe entriesgender donot have duplicates\nThe Dataframe medals donot have duplicates\nThe Dataframe teams donot have duplicates\nThe Dataframe tokyo_olympic_dataset donot have duplicates\n"
     ]
    }
   ],
   "source": [
    "for df_name,df_value in dfs.items():\n",
    "    if df_value.count() == df_value.distinct().count():\n",
    "        print(f\"The Dataframe {df_name} donot have duplicates\")\n",
    "    else:\n",
    "        print(f\"The Dataframe {df_name} do contain duplicate values\")\n",
    "        print(\"Removing Duplicates\")\n",
    "        print(f\"The Row Count of DataFrame {df_name} before duplicates removal is\",df_value.count())\n",
    "        dfs[df_name] = df_value.dropDuplicates()\n",
    "        print(f\"The Row Count of DataFrame {df_name} after duplicates removal is\",df_value.count())"
   ]
  },
  {
   "cell_type": "markdown",
   "metadata": {
    "application/vnd.databricks.v1+cell": {
     "cellMetadata": {
      "byteLimit": 2048000,
      "rowLimit": 10000
     },
     "inputWidgets": {},
     "nuid": "249299bf-66a0-4d59-974b-b316ed408355",
     "showTitle": false,
     "title": ""
    }
   },
   "source": [
    "### Creating a spark sql view of all DataFrames"
   ]
  },
  {
   "cell_type": "code",
   "execution_count": 0,
   "metadata": {
    "application/vnd.databricks.v1+cell": {
     "cellMetadata": {
      "byteLimit": 2048000,
      "rowLimit": 10000
     },
     "inputWidgets": {},
     "nuid": "bfe4a8f9-ddb9-48d2-a36b-8907c061bcd6",
     "showTitle": false,
     "title": ""
    }
   },
   "outputs": [],
   "source": [
    "for df_name,df_value in dfs.items():\n",
    "    dfs[df_name].createOrReplaceTempView(df_name)"
   ]
  },
  {
   "cell_type": "markdown",
   "metadata": {
    "application/vnd.databricks.v1+cell": {
     "cellMetadata": {
      "byteLimit": 2048000,
      "rowLimit": 10000
     },
     "inputWidgets": {},
     "nuid": "045414f2-e802-4c4e-8620-57c99a59552f",
     "showTitle": false,
     "title": ""
    }
   },
   "source": [
    "### Transforming Athletes and Countries DataFrame"
   ]
  },
  {
   "cell_type": "markdown",
   "metadata": {
    "application/vnd.databricks.v1+cell": {
     "cellMetadata": {
      "byteLimit": 2048000,
      "rowLimit": 10000
     },
     "inputWidgets": {},
     "nuid": "28adc2a1-472f-4885-91b0-941e736d0daa",
     "showTitle": false,
     "title": ""
    }
   },
   "source": [
    "#### Integrating athletes data from multiple DataFrames "
   ]
  },
  {
   "cell_type": "code",
   "execution_count": 0,
   "metadata": {
    "application/vnd.databricks.v1+cell": {
     "cellMetadata": {
      "byteLimit": 2048000,
      "rowLimit": 10000
     },
     "inputWidgets": {},
     "nuid": "f538ecba-42c6-4db7-991e-2a008265a142",
     "showTitle": false,
     "title": ""
    }
   },
   "outputs": [],
   "source": [
    "athletes_delta = spark.sql(\" Select a.athlete_name PersonName,a.Country,a.Discipline from Medals_Individual a left join athletes b\\\n",
    "                                  on a.Athlete_Name = b.PersonName\\\n",
    "                                  where b.PersonName is null\")"
   ]
  },
  {
   "cell_type": "code",
   "execution_count": 0,
   "metadata": {
    "application/vnd.databricks.v1+cell": {
     "cellMetadata": {
      "byteLimit": 2048000,
      "rowLimit": 10000
     },
     "inputWidgets": {},
     "nuid": "f7f4aa73-8a20-4a97-ab8b-e916143f07e3",
     "showTitle": false,
     "title": ""
    }
   },
   "outputs": [],
   "source": [
    "dfs['athletes'] = dfs['athletes'].union(athletes_delta.distinct())"
   ]
  },
  {
   "cell_type": "code",
   "execution_count": 0,
   "metadata": {
    "application/vnd.databricks.v1+cell": {
     "cellMetadata": {
      "byteLimit": 2048000,
      "rowLimit": 10000
     },
     "inputWidgets": {},
     "nuid": "3438483b-ee7a-49d5-a8c2-068673c3b1bf",
     "showTitle": false,
     "title": ""
    }
   },
   "outputs": [],
   "source": [
    "tokyo_olympic_dataset = spark.sql(\"Select Distinct Name,\\\n",
    "                                                   Age,\\\n",
    "                                                   Gender,\\\n",
    "                                                   Country from tokyo_olympic_dataset\")\n",
    "tokyo_olympic_dataset.createOrReplaceTempView('tokyo_olympic_dataset')\n",
    "dfs['athletes'].createOrReplaceTempView('athletes')"
   ]
  },
  {
   "cell_type": "code",
   "execution_count": 0,
   "metadata": {
    "application/vnd.databricks.v1+cell": {
     "cellMetadata": {
      "byteLimit": 2048000,
      "rowLimit": 10000
     },
     "inputWidgets": {},
     "nuid": "0922ed04-aabe-4181-a617-0c77c4851820",
     "showTitle": false,
     "title": ""
    }
   },
   "outputs": [],
   "source": [
    "dfs['athletes'] = spark.sql(\"Select a.*,b.Age,b.Gender from athletes as a\\\n",
    "                                          left join tokyo_olympic_dataset as b\\\n",
    "                                               on (a.PersonName = b.Name\\\n",
    "                                               and a.Country = b.Country) \")"
   ]
  },
  {
   "cell_type": "markdown",
   "metadata": {
    "application/vnd.databricks.v1+cell": {
     "cellMetadata": {
      "byteLimit": 2048000,
      "rowLimit": 10000
     },
     "inputWidgets": {},
     "nuid": "0687066a-f385-4dff-bcc6-6c3e6b131bc8",
     "showTitle": false,
     "title": ""
    }
   },
   "source": [
    "#### Renaming column"
   ]
  },
  {
   "cell_type": "code",
   "execution_count": 0,
   "metadata": {
    "application/vnd.databricks.v1+cell": {
     "cellMetadata": {
      "byteLimit": 2048000,
      "rowLimit": 10000
     },
     "inputWidgets": {},
     "nuid": "71351043-69a1-481d-be91-7eb9885de53f",
     "showTitle": false,
     "title": ""
    }
   },
   "outputs": [],
   "source": [
    "dfs['athletes'] = dfs['athletes'].withColumnRenamed(\"PersonName\",\"Athlete_Name\")"
   ]
  },
  {
   "cell_type": "markdown",
   "metadata": {
    "application/vnd.databricks.v1+cell": {
     "cellMetadata": {
      "byteLimit": 2048000,
      "rowLimit": 10000
     },
     "inputWidgets": {},
     "nuid": "e2792a04-0447-4d37-b485-7629498ccb90",
     "showTitle": false,
     "title": ""
    }
   },
   "source": [
    "#### Adding a Surrogate Key"
   ]
  },
  {
   "cell_type": "code",
   "execution_count": 0,
   "metadata": {
    "application/vnd.databricks.v1+cell": {
     "cellMetadata": {
      "byteLimit": 2048000,
      "rowLimit": 10000
     },
     "inputWidgets": {},
     "nuid": "6efd779f-c76e-4f0f-b290-10216670377f",
     "showTitle": false,
     "title": ""
    }
   },
   "outputs": [],
   "source": [
    "dfs['athletes'] = dfs['athletes'].withColumn(\"Athlete_SID\",row_number().over(Window.orderBy(\"Athlete_Name\")))\n",
    "dfs['athletes'] = dfs['athletes'].select(\"Athlete_SID\",\"Athlete_Name\",\"Country\",\"Age\",\"Gender\",\"Discipline\")"
   ]
  },
  {
   "cell_type": "code",
   "execution_count": 0,
   "metadata": {
    "application/vnd.databricks.v1+cell": {
     "cellMetadata": {
      "byteLimit": 2048000,
      "rowLimit": 10000
     },
     "inputWidgets": {},
     "nuid": "e3823827-17c5-4887-b6e0-ba0e91bb18da",
     "showTitle": false,
     "title": ""
    }
   },
   "outputs": [
    {
     "output_type": "stream",
     "name": "stdout",
     "output_type": "stream",
     "text": [
      "+-----------+--------------------+--------------------+----+------+-------------------+\n|Athlete_SID|        Athlete_Name|             Country| Age|Gender|         Discipline|\n+-----------+--------------------+--------------------+----+------+-------------------+\n|          1|     AALERUD Katrine|              Norway|  26|Female|       Cycling Road|\n|          2|         ABAD Nestor|               Spain|  28|  Male|Artistic Gymnastics|\n|          3|   ABAGNALE Giovanni|               Italy|  26|  Male|             Rowing|\n|          4|      ABALDE Alberto|               Spain|  25|  Male|         Basketball|\n|          5|       ABALDE Tamara|               Spain|  32|Female|         Basketball|\n|          6|           ABALO Luc|              France|  36|  Male|           Handball|\n|          7|        ABAROA Cesar|               Chile|  24|  Male|             Rowing|\n|          8|       ABASS Abobakr|               Sudan|  22|  Male|           Swimming|\n|          9|    ABBASALI Hamideh|Islamic Republic ...|NULL|  NULL|             Karate|\n|         10|       ABBASOV Islam|          Azerbaijan|  25|  Male|          Wrestling|\n|         11|        ABBINGH Lois|         Netherlands|  28|Female|           Handball|\n|         12|         ABBOT Emily|           Australia|  24|Female|Rhythmic Gymnastics|\n|         13|       ABBOTT Monica|United States of ...|NULL|  NULL|  Baseball/Softball|\n|         14|ABDALLA Abubaker ...|               Qatar|  24|  Male|          Athletics|\n|         15|      ABDALLA Maryam|               Egypt|NULL|  NULL|  Artistic Swimming|\n|         16|      ABDALLAH Shahd|               Egypt|NULL|  NULL|  Artistic Swimming|\n|         17| ABDALRASOOL Mohamed|               Sudan|  28|  Male|               Judo|\n|         18|   ABDEL LATIF Radwa|               Egypt|  31|Female|           Shooting|\n|         19|    ABDEL RAZEK Samy|               Egypt|  41|  Male|           Shooting|\n|         20|   ABDELAZIZ Abdalla|               Egypt|  22|  Male|             Karate|\n+-----------+--------------------+--------------------+----+------+-------------------+\nonly showing top 20 rows\n\n"
     ]
    }
   ],
   "source": [
    "dfs['athletes'].show()"
   ]
  },
  {
   "cell_type": "code",
   "execution_count": 0,
   "metadata": {
    "application/vnd.databricks.v1+cell": {
     "cellMetadata": {
      "byteLimit": 2048000,
      "rowLimit": 10000
     },
     "inputWidgets": {},
     "nuid": "6c7837d2-1082-40e8-b96f-d0ae6dd975dd",
     "showTitle": false,
     "title": ""
    }
   },
   "outputs": [],
   "source": [
    "dfs['countries'] = dfs['athletes'].select(\"Country\").distinct()\n",
    "dfs['countries'] = dfs['countries'].withColumn(\"Country_SID\",row_number().over(Window.orderBy(\"Country\")))"
   ]
  },
  {
   "cell_type": "code",
   "execution_count": 0,
   "metadata": {
    "application/vnd.databricks.v1+cell": {
     "cellMetadata": {
      "byteLimit": 2048000,
      "rowLimit": 10000
     },
     "inputWidgets": {},
     "nuid": "bfce6ae8-27ba-4022-ad6e-c21888607cff",
     "showTitle": false,
     "title": ""
    }
   },
   "outputs": [
    {
     "output_type": "execute_result",
     "data": {
      "text/plain": [
       "dict_keys(['Medals_Individual', 'athletes', 'coaches', 'entriesgender', 'medals', 'teams', 'tokyo_olympic_dataset', 'countries'])"
      ]
     },
     "execution_count": 129,
     "metadata": {},
     "output_type": "execute_result"
    }
   ],
   "source": [
    "dfs.keys()"
   ]
  },
  {
   "cell_type": "markdown",
   "metadata": {
    "application/vnd.databricks.v1+cell": {
     "cellMetadata": {
      "byteLimit": 2048000,
      "rowLimit": 10000
     },
     "inputWidgets": {},
     "nuid": "8803f1d0-d37a-4986-91c6-d0a6233e0017",
     "showTitle": false,
     "title": ""
    }
   },
   "source": [
    "#### Transforming coaches DataFrame"
   ]
  },
  {
   "cell_type": "markdown",
   "metadata": {
    "application/vnd.databricks.v1+cell": {
     "cellMetadata": {
      "byteLimit": 2048000,
      "rowLimit": 10000
     },
     "inputWidgets": {},
     "nuid": "1a1eb239-6d71-4030-a976-d733ca7096b9",
     "showTitle": false,
     "title": ""
    }
   },
   "source": [
    "#### Renaming Columns"
   ]
  },
  {
   "cell_type": "code",
   "execution_count": 0,
   "metadata": {
    "application/vnd.databricks.v1+cell": {
     "cellMetadata": {
      "byteLimit": 2048000,
      "rowLimit": 10000
     },
     "inputWidgets": {},
     "nuid": "f64bf299-e096-4c9f-8355-9454c10de840",
     "showTitle": false,
     "title": ""
    }
   },
   "outputs": [],
   "source": [
    "dfs['coaches'] = dfs['coaches'].withColumnRenamed(\"Name\",\"Coach_Name\")"
   ]
  },
  {
   "cell_type": "markdown",
   "metadata": {
    "application/vnd.databricks.v1+cell": {
     "cellMetadata": {
      "byteLimit": 2048000,
      "rowLimit": 10000
     },
     "inputWidgets": {},
     "nuid": "a5d11b38-66c4-413a-a1db-f6e4aeb11324",
     "showTitle": false,
     "title": ""
    }
   },
   "source": [
    "#### Adding a Surrogate Key"
   ]
  },
  {
   "cell_type": "code",
   "execution_count": 0,
   "metadata": {
    "application/vnd.databricks.v1+cell": {
     "cellMetadata": {
      "byteLimit": 2048000,
      "rowLimit": 10000
     },
     "inputWidgets": {},
     "nuid": "44829631-67fa-41d0-bf7a-49a8f349d85b",
     "showTitle": false,
     "title": ""
    }
   },
   "outputs": [],
   "source": [
    "dfs['coaches'] = dfs['coaches'].withColumn(\"Coach_SID\",row_number().over(Window.orderBy(\"Coach_Name\")))\n",
    "dfs['coaches'] = dfs['coaches'].select(\"Coach_SID\",\"Coach_Name\",\"Country\",\"Discipline\")"
   ]
  },
  {
   "cell_type": "markdown",
   "metadata": {
    "application/vnd.databricks.v1+cell": {
     "cellMetadata": {
      "byteLimit": 2048000,
      "rowLimit": 10000
     },
     "inputWidgets": {},
     "nuid": "513f5100-81df-4900-8bfe-72676bc10a77",
     "showTitle": false,
     "title": ""
    }
   },
   "source": [
    "#### Transforming EntriesGender DataFrame"
   ]
  },
  {
   "cell_type": "markdown",
   "metadata": {
    "application/vnd.databricks.v1+cell": {
     "cellMetadata": {
      "byteLimit": 2048000,
      "rowLimit": 10000
     },
     "inputWidgets": {},
     "nuid": "3a350f7b-60c8-42c7-92c0-85d84fb7a8d8",
     "showTitle": false,
     "title": ""
    }
   },
   "source": [
    "#### Adding a Surrogate Key"
   ]
  },
  {
   "cell_type": "code",
   "execution_count": 0,
   "metadata": {
    "application/vnd.databricks.v1+cell": {
     "cellMetadata": {
      "byteLimit": 2048000,
      "rowLimit": 10000
     },
     "inputWidgets": {},
     "nuid": "8d1f0664-35f8-4edb-ae82-76ad6d0b04b3",
     "showTitle": false,
     "title": ""
    }
   },
   "outputs": [],
   "source": [
    "dfs['entriesgender'] = dfs['entriesgender'].withColumn(\"Discipline_SID\",row_number().over(Window.orderBy(\"Discipline\")))"
   ]
  },
  {
   "cell_type": "code",
   "execution_count": 0,
   "metadata": {
    "application/vnd.databricks.v1+cell": {
     "cellMetadata": {
      "byteLimit": 2048000,
      "rowLimit": 10000
     },
     "inputWidgets": {},
     "nuid": "708f2978-398c-4485-87be-9f4b6dc867c0",
     "showTitle": false,
     "title": ""
    }
   },
   "outputs": [],
   "source": [
    "dfs['discipline'] = dfs['entriesgender'].select(\"Discipline_SID\",\"Discipline\")\n",
    "dfs['discipline_gender_fact'] = dfs['entriesgender'].select(\"Discipline_SID\",\"Female\",\"Male\",\"Total\")"
   ]
  },
  {
   "cell_type": "code",
   "execution_count": 0,
   "metadata": {
    "application/vnd.databricks.v1+cell": {
     "cellMetadata": {
      "byteLimit": 2048000,
      "rowLimit": 10000
     },
     "inputWidgets": {},
     "nuid": "73afaba2-91b1-4596-8494-f86904de3180",
     "showTitle": false,
     "title": ""
    }
   },
   "outputs": [],
   "source": [
    "del dfs['entriesgender']"
   ]
  },
  {
   "cell_type": "markdown",
   "metadata": {
    "application/vnd.databricks.v1+cell": {
     "cellMetadata": {
      "byteLimit": 2048000,
      "rowLimit": 10000
     },
     "inputWidgets": {},
     "nuid": "771815b7-0cd9-42f1-bfe3-14b7083498e5",
     "showTitle": false,
     "title": ""
    }
   },
   "source": [
    "#### Transforming Medals DataFrame"
   ]
  },
  {
   "cell_type": "markdown",
   "metadata": {
    "application/vnd.databricks.v1+cell": {
     "cellMetadata": {
      "byteLimit": 2048000,
      "rowLimit": 10000
     },
     "inputWidgets": {},
     "nuid": "c9f77843-b740-4cb0-9ca3-43ed11623332",
     "showTitle": false,
     "title": ""
    }
   },
   "source": [
    "#### Renaming Columns"
   ]
  },
  {
   "cell_type": "code",
   "execution_count": 0,
   "metadata": {
    "application/vnd.databricks.v1+cell": {
     "cellMetadata": {
      "byteLimit": 2048000,
      "rowLimit": 10000
     },
     "inputWidgets": {},
     "nuid": "7ae40e21-a628-4a3c-9725-1ccae436e315",
     "showTitle": false,
     "title": ""
    }
   },
   "outputs": [],
   "source": [
    "dfs['countries_medal_fact'] = dfs['medals'].withColumnRenamed(\"Team_Country\",\"Country\").drop(\"Rank\").withColumnRenamed(\"Rank by Total\",\"Rank\")"
   ]
  },
  {
   "cell_type": "markdown",
   "metadata": {
    "application/vnd.databricks.v1+cell": {
     "cellMetadata": {
      "byteLimit": 2048000,
      "rowLimit": 10000
     },
     "inputWidgets": {},
     "nuid": "091f319e-8f21-4932-a1e0-8c1d99fd2243",
     "showTitle": false,
     "title": ""
    }
   },
   "source": [
    "#### Adding a Surrogate Key"
   ]
  },
  {
   "cell_type": "code",
   "execution_count": 0,
   "metadata": {
    "application/vnd.databricks.v1+cell": {
     "cellMetadata": {
      "byteLimit": 2048000,
      "rowLimit": 10000
     },
     "inputWidgets": {},
     "nuid": "80e79ddf-4870-4436-840d-98d333553a7a",
     "showTitle": false,
     "title": ""
    }
   },
   "outputs": [],
   "source": [
    "dfs['countries_medal_fact'] = dfs['countries_medal_fact'].withColumn(\"Country_Medal_Fact_SID\",row_number().over(Window.orderBy(\"Country\")))\n",
    "dfs['countries_medal_fact'] = dfs['countries_medal_fact'].select(\"Country_Medal_Fact_SID\",\"Country\",\"Gold\",\"Silver\",\"Bronze\",\"Total\",\"Rank\")"
   ]
  },
  {
   "cell_type": "markdown",
   "metadata": {
    "application/vnd.databricks.v1+cell": {
     "cellMetadata": {
      "byteLimit": 2048000,
      "rowLimit": 10000
     },
     "inputWidgets": {},
     "nuid": "43709fe0-d6b5-4f51-ba23-5ba525666ca4",
     "showTitle": false,
     "title": ""
    }
   },
   "source": [
    "#### Transforming Medals DataFrame"
   ]
  },
  {
   "cell_type": "markdown",
   "metadata": {
    "application/vnd.databricks.v1+cell": {
     "cellMetadata": {
      "byteLimit": 2048000,
      "rowLimit": 10000
     },
     "inputWidgets": {},
     "nuid": "6d477f5e-2852-45bc-bd3c-8151cb99da1c",
     "showTitle": false,
     "title": ""
    }
   },
   "source": [
    "#### Renaming Columns"
   ]
  },
  {
   "cell_type": "code",
   "execution_count": 0,
   "metadata": {
    "application/vnd.databricks.v1+cell": {
     "cellMetadata": {
      "byteLimit": 2048000,
      "rowLimit": 10000
     },
     "inputWidgets": {},
     "nuid": "5fc78322-e495-49d3-bae4-61fea73b7fdf",
     "showTitle": false,
     "title": ""
    }
   },
   "outputs": [],
   "source": [
    "dfs['Medals_Individual'] = dfs['Medals_Individual'].select(\"medal_type\",\"medal_date\",\"athlete_name\",\"event\",\"country\",\"discipline\",\"medal_code\")\n",
    "\n",
    "old_col = dfs['Medals_Individual'].columns\n",
    "for cols in old_col:\n",
    "    if \"date\" in cols:\n",
    "        dfs['Medals_Individual'] = dfs['Medals_Individual'].withColumn(cols,date_format(from_utc_timestamp(dfs['Medals_Individual'][cols].\\\n",
    "            cast(TimestampType()),\"UTC\"),\"yyyy-MM-dd\"))\n",
    "    new_col_name = ''.join(\"_\" + word.capitalize() for word in cols.split('_')).lstrip(\"_\")\n",
    "    dfs['Medals_Individual']  = dfs['Medals_Individual'] .withColumnRenamed(cols,new_col_name)"
   ]
  },
  {
   "cell_type": "markdown",
   "metadata": {
    "application/vnd.databricks.v1+cell": {
     "cellMetadata": {
      "byteLimit": 2048000,
      "rowLimit": 10000
     },
     "inputWidgets": {},
     "nuid": "9ce3f47d-fa26-4236-a988-f6ee86441426",
     "showTitle": false,
     "title": ""
    }
   },
   "source": [
    "#### Adding a Surrogate Key"
   ]
  },
  {
   "cell_type": "code",
   "execution_count": 0,
   "metadata": {
    "application/vnd.databricks.v1+cell": {
     "cellMetadata": {
      "byteLimit": 2048000,
      "rowLimit": 10000
     },
     "inputWidgets": {},
     "nuid": "702231e0-6845-4973-ad8c-666176c7e969",
     "showTitle": false,
     "title": ""
    }
   },
   "outputs": [],
   "source": [
    "dfs['Medals_Individual'] = dfs['Medals_Individual'].withColumn(\"Medals_Fact_SID\",row_number().over(Window.orderBy(\"Country\")))\n",
    "dfs['Medals_Individual'].createOrReplaceTempView(\"medal\")"
   ]
  },
  {
   "cell_type": "markdown",
   "metadata": {
    "application/vnd.databricks.v1+cell": {
     "cellMetadata": {
      "byteLimit": 2048000,
      "rowLimit": 10000
     },
     "inputWidgets": {},
     "nuid": "2185b652-c3da-4451-b817-851fd2f325fb",
     "showTitle": false,
     "title": ""
    }
   },
   "source": [
    "#### Adding columns"
   ]
  },
  {
   "cell_type": "code",
   "execution_count": 0,
   "metadata": {
    "application/vnd.databricks.v1+cell": {
     "cellMetadata": {
      "byteLimit": 2048000,
      "rowLimit": 10000
     },
     "inputWidgets": {},
     "nuid": "f4298904-575a-47ee-8619-08cc90cca97b",
     "showTitle": false,
     "title": ""
    }
   },
   "outputs": [],
   "source": [
    "dfs['Medals_Individual'] = spark.sql(\"Select *, case when Medal_Type = 'Gold Medal' then 1 else 0 end Gold_Medals,\\\n",
    "                                    case when Medal_Type = 'Silver Medal' then 1 else 0 end Silver_Medals,\\\n",
    "                                    case when Medal_Type = 'Bronze Medal' then 1 else 0 end Bronze_Medals from medal\")"
   ]
  },
  {
   "cell_type": "code",
   "execution_count": 0,
   "metadata": {
    "application/vnd.databricks.v1+cell": {
     "cellMetadata": {
      "byteLimit": 2048000,
      "rowLimit": 10000
     },
     "inputWidgets": {},
     "nuid": "ff180c6e-1075-49c0-bc02-2b737c5035b0",
     "showTitle": false,
     "title": ""
    }
   },
   "outputs": [],
   "source": [
    "dfs['medals_fact'] = dfs['Medals_Individual'].select(\"Medals_Fact_SID\",\"Medal_Date\",\"Athlete_Name\",\"Event\",\"Country\",\"Discipline\",\\\n",
    "                            \"Gold_Medals\",\"Silver_Medals\",\"Bronze_Medals\")"
   ]
  },
  {
   "cell_type": "markdown",
   "metadata": {
    "application/vnd.databricks.v1+cell": {
     "cellMetadata": {
      "byteLimit": 2048000,
      "rowLimit": 10000
     },
     "inputWidgets": {},
     "nuid": "ce6cfc8f-be56-4763-8ef1-85e5d7cd33d8",
     "showTitle": false,
     "title": ""
    }
   },
   "source": [
    "#### Transforming Teams DataFrame"
   ]
  },
  {
   "cell_type": "markdown",
   "metadata": {
    "application/vnd.databricks.v1+cell": {
     "cellMetadata": {
      "byteLimit": 2048000,
      "rowLimit": 10000
     },
     "inputWidgets": {},
     "nuid": "2b434144-6435-48cd-8837-65997047e16f",
     "showTitle": false,
     "title": ""
    }
   },
   "source": [
    "#### Renaming Columns"
   ]
  },
  {
   "cell_type": "code",
   "execution_count": 0,
   "metadata": {
    "application/vnd.databricks.v1+cell": {
     "cellMetadata": {
      "byteLimit": 2048000,
      "rowLimit": 10000
     },
     "inputWidgets": {},
     "nuid": "f3636456-fb27-418f-8748-82624a20c7f3",
     "showTitle": false,
     "title": ""
    }
   },
   "outputs": [],
   "source": [
    "dfs['teams'] = dfs['teams'] .withColumnRenamed(\"TeamName\",\"Team_Name\")"
   ]
  },
  {
   "cell_type": "markdown",
   "metadata": {
    "application/vnd.databricks.v1+cell": {
     "cellMetadata": {
      "byteLimit": 2048000,
      "rowLimit": 10000
     },
     "inputWidgets": {},
     "nuid": "0ec43b93-68ed-4957-8590-b082dacd38b8",
     "showTitle": false,
     "title": ""
    }
   },
   "source": [
    "#### Adding a Surrogate Key"
   ]
  },
  {
   "cell_type": "code",
   "execution_count": 0,
   "metadata": {
    "application/vnd.databricks.v1+cell": {
     "cellMetadata": {
      "byteLimit": 2048000,
      "rowLimit": 10000
     },
     "inputWidgets": {},
     "nuid": "ba04f501-636c-46cc-90f5-9b62360dfaba",
     "showTitle": false,
     "title": ""
    }
   },
   "outputs": [],
   "source": [
    "dfs['teams'] = dfs['teams'].withColumn(\"Team_SID\",row_number().over(Window.orderBy(\"Team_Name\")))\n",
    "dfs['teams'] = dfs['teams'].select(\"Team_SID\",\"Team_Name\",\"Discipline\",\"Country\",\"Event\")"
   ]
  },
  {
   "cell_type": "markdown",
   "metadata": {
    "application/vnd.databricks.v1+cell": {
     "cellMetadata": {
      "byteLimit": 2048000,
      "rowLimit": 10000
     },
     "inputWidgets": {},
     "nuid": "52b70740-0d35-48b2-8025-685215ac3ea3",
     "showTitle": false,
     "title": ""
    }
   },
   "source": [
    "#### Transforming TokyoOlympic DataFrame"
   ]
  },
  {
   "cell_type": "code",
   "execution_count": 0,
   "metadata": {
    "application/vnd.databricks.v1+cell": {
     "cellMetadata": {
      "byteLimit": 2048000,
      "rowLimit": 10000
     },
     "inputWidgets": {},
     "nuid": "6b99901d-0fc6-404d-aff8-e26db3ac983c",
     "showTitle": false,
     "title": ""
    }
   },
   "outputs": [],
   "source": [
    "dfs['event'] = dfs['tokyo_olympic_dataset'].select(\"Event\").distinct()"
   ]
  },
  {
   "cell_type": "code",
   "execution_count": 0,
   "metadata": {
    "application/vnd.databricks.v1+cell": {
     "cellMetadata": {
      "byteLimit": 2048000,
      "rowLimit": 10000
     },
     "inputWidgets": {},
     "nuid": "0f54e399-b06e-4d8d-9a6f-7bf2b8b3314d",
     "showTitle": false,
     "title": ""
    }
   },
   "outputs": [],
   "source": [
    "dfs['event'].createOrReplaceTempView(\"events\")"
   ]
  },
  {
   "cell_type": "code",
   "execution_count": 0,
   "metadata": {
    "application/vnd.databricks.v1+cell": {
     "cellMetadata": {
      "byteLimit": 2048000,
      "rowLimit": 10000
     },
     "inputWidgets": {},
     "nuid": "1304f26b-38f0-4fc4-a4be-046ed2ccdcfc",
     "showTitle": false,
     "title": ""
    }
   },
   "outputs": [],
   "source": [
    "event_delta = spark.sql(\"Select a.Event from medal a left join events b on a.Event = b.Event where b.Event is Null\")\n",
    "event_delta = event_delta.distinct()"
   ]
  },
  {
   "cell_type": "code",
   "execution_count": 0,
   "metadata": {
    "application/vnd.databricks.v1+cell": {
     "cellMetadata": {
      "byteLimit": 2048000,
      "rowLimit": 10000
     },
     "inputWidgets": {},
     "nuid": "698b3dc6-fb22-49af-b36e-5460804f889e",
     "showTitle": false,
     "title": ""
    }
   },
   "outputs": [],
   "source": [
    "dfs['athlete_event'] =  dfs['tokyo_olympic_dataset'].select(\"Event\",\"Name\").distinct()"
   ]
  },
  {
   "cell_type": "code",
   "execution_count": 0,
   "metadata": {
    "application/vnd.databricks.v1+cell": {
     "cellMetadata": {
      "byteLimit": 2048000,
      "rowLimit": 10000
     },
     "inputWidgets": {},
     "nuid": "3babdd5e-0793-457f-a777-d6cd3327684e",
     "showTitle": false,
     "title": ""
    }
   },
   "outputs": [],
   "source": [
    "dfs['event'] = dfs['event'].union(event_delta)"
   ]
  },
  {
   "cell_type": "markdown",
   "metadata": {
    "application/vnd.databricks.v1+cell": {
     "cellMetadata": {
      "byteLimit": 2048000,
      "rowLimit": 10000
     },
     "inputWidgets": {},
     "nuid": "80fdac8f-3a9a-4a03-a5b2-42a7c78987c2",
     "showTitle": false,
     "title": ""
    }
   },
   "source": [
    "#### Adding a Surrogate Key"
   ]
  },
  {
   "cell_type": "code",
   "execution_count": 0,
   "metadata": {
    "application/vnd.databricks.v1+cell": {
     "cellMetadata": {
      "byteLimit": 2048000,
      "rowLimit": 10000
     },
     "inputWidgets": {},
     "nuid": "9b787e79-2e45-420f-bbd3-2c4d0e2f1bb2",
     "showTitle": false,
     "title": ""
    }
   },
   "outputs": [],
   "source": [
    "dfs['event'] = dfs['event'].withColumn(\"Event_SID\",row_number().over(Window.orderBy(\"Event\")))\n",
    "dfs['event'] = dfs['event'].select(\"Event_SID\",\"Event\")"
   ]
  },
  {
   "cell_type": "code",
   "execution_count": 0,
   "metadata": {
    "application/vnd.databricks.v1+cell": {
     "cellMetadata": {
      "byteLimit": 2048000,
      "rowLimit": 10000
     },
     "inputWidgets": {},
     "nuid": "02f2a363-bc12-4964-925d-6001de558925",
     "showTitle": false,
     "title": ""
    }
   },
   "outputs": [],
   "source": [
    "dfs['athlete_event'] = dfs['athlete_event'].withColumn(\"Athlete_Event_SID\",row_number().over(Window.orderBy(\"Name\")))"
   ]
  },
  {
   "cell_type": "markdown",
   "metadata": {
    "application/vnd.databricks.v1+cell": {
     "cellMetadata": {
      "byteLimit": 2048000,
      "rowLimit": 10000
     },
     "inputWidgets": {},
     "nuid": "b04c4e73-82b5-4dcd-b0a0-279b26dce519",
     "showTitle": false,
     "title": ""
    }
   },
   "source": [
    "#### Renaming Columns"
   ]
  },
  {
   "cell_type": "code",
   "execution_count": 0,
   "metadata": {
    "application/vnd.databricks.v1+cell": {
     "cellMetadata": {
      "byteLimit": 2048000,
      "rowLimit": 10000
     },
     "inputWidgets": {},
     "nuid": "3ed3188c-6669-491b-9339-455e65d327ef",
     "showTitle": false,
     "title": ""
    }
   },
   "outputs": [],
   "source": [
    "dfs['athlete_event'] = dfs['athlete_event'].withColumnRenamed(\"Name\",\"Athlete_Name\").select(\"Athlete_Event_SID\",\"Athlete_Name\",\"Event\")"
   ]
  },
  {
   "cell_type": "code",
   "execution_count": 0,
   "metadata": {
    "application/vnd.databricks.v1+cell": {
     "cellMetadata": {
      "byteLimit": 2048000,
      "rowLimit": 10000
     },
     "inputWidgets": {},
     "nuid": "9ee69ca1-28d6-4436-b0dc-9e860ffdc0eb",
     "showTitle": false,
     "title": ""
    }
   },
   "outputs": [
    {
     "output_type": "execute_result",
     "data": {
      "text/plain": [
       "dict_keys(['Medals_Individual', 'athletes', 'coaches', 'medals', 'teams', 'tokyo_olympic_dataset', 'countries', 'discipline', 'discipline_gender_fact', 'countries_medal_fact', 'medals_fact', 'event', 'athlete_event'])"
      ]
     },
     "execution_count": 151,
     "metadata": {},
     "output_type": "execute_result"
    }
   ],
   "source": [
    "dfs.keys()"
   ]
  },
  {
   "cell_type": "code",
   "execution_count": 0,
   "metadata": {
    "application/vnd.databricks.v1+cell": {
     "cellMetadata": {
      "byteLimit": 2048000,
      "rowLimit": 10000
     },
     "inputWidgets": {},
     "nuid": "9b657747-6fb6-49d1-a391-194d3577d483",
     "showTitle": false,
     "title": ""
    }
   },
   "outputs": [],
   "source": [
    "del dfs['Medals_Individual']\n",
    "del dfs['tokyo_olympic_dataset']\n",
    "del dfs['medals']"
   ]
  },
  {
   "cell_type": "markdown",
   "metadata": {
    "application/vnd.databricks.v1+cell": {
     "cellMetadata": {
      "byteLimit": 2048000,
      "rowLimit": 10000
     },
     "inputWidgets": {},
     "nuid": "951eaab4-59d8-448c-8d1b-2ddd63cfc2a2",
     "showTitle": false,
     "title": ""
    }
   },
   "source": [
    "#### Loading Transformed Data into Silver Layer"
   ]
  },
  {
   "cell_type": "code",
   "execution_count": 0,
   "metadata": {
    "application/vnd.databricks.v1+cell": {
     "cellMetadata": {
      "byteLimit": 2048000,
      "rowLimit": 10000
     },
     "inputWidgets": {},
     "nuid": "c813bd06-f89b-4507-b155-97c159b3ea27",
     "showTitle": false,
     "title": ""
    }
   },
   "outputs": [],
   "source": [
    "for df_name,df_value in dfs.items():\n",
    "    output_path = '/mnt/tokyo_olympic/Silver-Layer/' + df_name + '_silver/' + df_name + '.csv'\n",
    "    df_value.repartition(1).write.mode(\"overwrite\").option(\"header\",\"true\").csv(output_path)"
   ]
  },
  {
   "cell_type": "code",
   "execution_count": 0,
   "metadata": {
    "application/vnd.databricks.v1+cell": {
     "cellMetadata": {
      "byteLimit": 2048000,
      "rowLimit": 10000
     },
     "inputWidgets": {},
     "nuid": "ba63dc3d-abf1-426d-9b02-4eb9a32edc97",
     "showTitle": false,
     "title": ""
    }
   },
   "outputs": [],
   "source": []
  }
 ],
 "metadata": {
  "application/vnd.databricks.v1+notebook": {
   "dashboards": [],
   "language": "python",
   "notebookMetadata": {
    "pythonIndentUnit": 4
   },
   "notebookName": "bronze to silver notebook",
   "widgets": {}
  }
 },
 "nbformat": 4,
 "nbformat_minor": 0
}
